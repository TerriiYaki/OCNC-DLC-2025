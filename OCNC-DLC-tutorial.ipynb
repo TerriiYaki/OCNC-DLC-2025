{
 "cells": [
  {
   "cell_type": "markdown",
   "metadata": {},
   "source": [
    "# OCNC DLC Tutorial\n",
    "\n",
    "Please make sure you are selecting the kernel that has your DLC installation!"
   ]
  },
  {
   "cell_type": "code",
   "execution_count": null,
   "metadata": {},
   "outputs": [],
   "source": [
    "import deeplabcut as dlc"
   ]
  },
  {
   "cell_type": "markdown",
   "metadata": {},
   "source": [
    "For some sanity checks if the working directory with the video of your choice is in the right location.\n",
    "So, please change ```/Users/saffirayantjon/Documents/DLC/OCNC_DLC_Tutorial/``` to your local path.\n",
    "\n",
    "- `pwd` prints your current local path \n",
    "- `ls` prints the directory information specified"
   ]
  },
  {
   "cell_type": "code",
   "execution_count": null,
   "metadata": {},
   "outputs": [],
   "source": [
    "%%sh\n",
    "pwd\n",
    "ls /Users/saffirayantjon/Documents/DLC/OCNC_DLC_Tutorial/"
   ]
  },
  {
   "cell_type": "markdown",
   "metadata": {},
   "source": [
    "## Create a project\n",
    "\n",
    "For organisational sanity, I prefer to declare more global variables in the beginning of the file. This way when I export the job to a potential computing cluster, I can easily change the location etc. "
   ]
  },
  {
   "cell_type": "code",
   "execution_count": null,
   "metadata": {},
   "outputs": [],
   "source": [
    "\"\"\" ==== CREATE PROJECT ==== \"\"\"\n",
    "\n",
    "# -- edit this part to match your directory --\n",
    "# -- input: str \n",
    "PROJECT_NAME: str = \"\"\n",
    "EXPERIMENTER: str = \"\"\n",
    "VIDEO_DIR: str = \"\" \n",
    "# WORKING_DIR: str = \"models/\"\n",
    "\n",
    "# NOTE: the VIDEO_DIR is a lst input -- you can use \n",
    "dlc.create_new_project(PROJECT_NAME, EXPERIMENTER, [VIDEO_DIR+\"M_190124_110324_12_60fps.avi\"]\n",
    ")"
   ]
  },
  {
   "cell_type": "markdown",
   "metadata": {},
   "source": [
    "Check if it is creating the folders it promised you :)"
   ]
  },
  {
   "cell_type": "code",
   "execution_count": null,
   "metadata": {},
   "outputs": [],
   "source": [
    "%%sh\n",
    "ls "
   ]
  },
  {
   "cell_type": "markdown",
   "metadata": {},
   "source": [
    "### Check The project details & edit accordingly"
   ]
  },
  {
   "cell_type": "code",
   "execution_count": null,
   "metadata": {},
   "outputs": [],
   "source": [
    "CONFIG_PATH: str = \"/Users/saffirayantjon/Documents/DLC/OCNC_DLC_Tutorial/OCNC-Saffira-2025-06-27/config.yaml\""
   ]
  },
  {
   "cell_type": "markdown",
   "metadata": {},
   "source": [
    "\n",
    "\n",
    "DISCLAIMER: I have anxiety and don't trust my fat fingers. For sane people, it is completely OK to open the file and just edit the config file manually using your text editor of choice. \n",
    "\n",
    "Please note:\n",
    "- `numframes2pick`: Number of frames to label per video.\n",
    "- `skeleton`: The body part label connections.\n",
    "- `bodyparts`: The labels."
   ]
  },
  {
   "cell_type": "code",
   "execution_count": null,
   "metadata": {},
   "outputs": [],
   "source": [
    "import yaml\n",
    "\n",
    "project_details = yaml.safe_load(open(CONFIG_PATH))\n",
    "project_details"
   ]
  },
  {
   "cell_type": "code",
   "execution_count": null,
   "metadata": {},
   "outputs": [],
   "source": [
    "# -- check number of frames to be extracted\n",
    "project_details[\"numframes2pick\"] = 20\n",
    "project_details[\"numframes2pick\"]"
   ]
  },
  {
   "cell_type": "code",
   "execution_count": null,
   "metadata": {},
   "outputs": [],
   "source": [
    "# NOTE: Choose the method that allows you to select the frames that capture all the behaviour you are interested in :)\n",
    "dlc.extract_frames(CONFIG_PATH, \n",
    "                   mode='automatic',\n",
    "                   userfeedback=False, \n",
    "                   crop=False\n",
    ")"
   ]
  },
  {
   "cell_type": "markdown",
   "metadata": {},
   "source": [
    "Check if it actually did the thing it promised :) (folder in labeled-frames)\n",
    "You should see something like: `img0015.png` 20 times a different frame."
   ]
  },
  {
   "cell_type": "code",
   "execution_count": null,
   "metadata": {},
   "outputs": [],
   "source": [
    "%%sh\n",
    "ls \n",
    "open "
   ]
  },
  {
   "cell_type": "code",
   "execution_count": null,
   "metadata": {},
   "outputs": [],
   "source": [
    "# --- sanity check -- what are the current labels\n",
    "bodyparts_details = project_details[\"bodyparts\"]\n",
    "print(\"Current bodyparts:\")\n",
    "print(\"--\", bodyparts_details)\n",
    "\n",
    "project_details[\"bodyparts\"] =  [\"LFP\", # left front paw\n",
    "                                 \"RFP\", # right front paw\n",
    "                                 \"LHP\", # left hind paw\n",
    "                                 \"RHP\", # right hind paw\n",
    "                                 \"TB\", # tail base\n",
    "                                 \"T0\", # tail segment 0\n",
    "                                 \"N\" # nose\n",
    "]"
   ]
  },
  {
   "cell_type": "code",
   "execution_count": null,
   "metadata": {},
   "outputs": [],
   "source": [
    "# --- sanity check -- what are the current skeleton config\n",
    "skeleton_details = project_details[\"skeleton\"]\n",
    "print(\"Current skeleton:\")\n",
    "print(\"--\", skeleton_details)\n",
    "\n",
    "project_details[\"skeleton\"] = [[]]*4\n",
    "project_details[\"skeleton\"][0] = [\"LF\", \"LHP\"]\n",
    "project_details[\"skeleton\"][1] = [\"RFP\", \"RHP\"]\n",
    "project_details[\"skeleton\"][2] = [\"N\", \"TB\"]\n",
    "project_details[\"skeleton\"][3] = [\"TB\", \"T0\"]"
   ]
  },
  {
   "cell_type": "code",
   "execution_count": null,
   "metadata": {},
   "outputs": [],
   "source": [
    "# -- write edit to the yaml file\n",
    "yaml.safe_dump(\n",
    "        project_details, open(CONFIG_PATH, \"w\"), sort_keys=False\n",
    ")"
   ]
  },
  {
   "cell_type": "markdown",
   "metadata": {},
   "source": [
    "Final check before labeling frames ! "
   ]
  },
  {
   "cell_type": "code",
   "execution_count": null,
   "metadata": {},
   "outputs": [],
   "source": [
    "project_details"
   ]
  },
  {
   "cell_type": "code",
   "execution_count": null,
   "metadata": {},
   "outputs": [],
   "source": [
    "dlc.label_frames(CONFIG_PATH)"
   ]
  },
  {
   "cell_type": "code",
   "execution_count": null,
   "metadata": {},
   "outputs": [],
   "source": [
    "dlc.check_labels(CONFIG_PATH)"
   ]
  },
  {
   "cell_type": "markdown",
   "metadata": {},
   "source": [
    "## The steps below only if you have GPU engagement \n",
    "- Otherwise move onto Google Colab: https://colab.research.google.com/github/DeepLabCut/DeepLabCut/blob/master/examples/COLAB/COLAB_YOURDATA_TrainNetwork_VideoAnalysis.ipynb\n",
    "    -   Copy to drive button! "
   ]
  },
  {
   "cell_type": "code",
   "execution_count": null,
   "metadata": {},
   "outputs": [],
   "source": [
    "CONFIG_PATH: str = \"/Users/saffirayantjon/Documents/DLC/OCNC_DLC_Tutorial/OCNC-Saffira-2025-06-26/config.yaml\"\n",
    "dlc.create_training_dataset(CONFIG_PATH)"
   ]
  },
  {
   "cell_type": "code",
   "execution_count": null,
   "metadata": {},
   "outputs": [],
   "source": [
    "dlc.train_network(CONFIG_PATH,shuffle=1,trainingsetindex=0,\n",
    "                #   device=\"cuda:0\",\n",
    "            max_snapshots_to_keep=5,displayiters=100,save_epochs=5,epochs=200\n",
    ")"
   ]
  },
  {
   "cell_type": "code",
   "execution_count": null,
   "metadata": {},
   "outputs": [],
   "source": [
    "%matplotlib inline\n",
    "dlc.evaluate_network(CONFIG_PATH,plotting=True, Shuffles=[1]\n",
    ")"
   ]
  },
  {
   "cell_type": "code",
   "execution_count": null,
   "metadata": {},
   "outputs": [],
   "source": [
    "%%sh\n",
    "open "
   ]
  },
  {
   "cell_type": "markdown",
   "metadata": {},
   "source": [
    "This is an example evaluation result:\n",
    "\n",
    "<img src=\"fig/Training-M_190124_110324_12_60fps-img0015.png\" alt=\"original image\" align=\"middle\" width=\"720\"/>\n",
    "\n",
    "Compare the \"+\" and \"keypoint\"."
   ]
  },
  {
   "cell_type": "code",
   "execution_count": null,
   "metadata": {},
   "outputs": [],
   "source": [
    "VIDEO_DIR:str = \"/Users/saffirayantjon/Documents/DLC/OCNC_DLC_Tutorial/video/\" \n",
    "dlc.analyze_videos(CONFIG_PATH, videos=[VIDEO_DIR+\"M_190124_110324_12_30fps_30s.mp4\"], videotype='mp4', \n",
    "                   shuffle=1, trainingsetindex=0, gputouse=None, save_as_csv=False,\n",
    "                   destfolder=VIDEO_DIR, batchsize=1, cropping=None,\n",
    "                   dynamic=(False, 0.5, 10)\n",
    ")"
   ]
  },
  {
   "cell_type": "code",
   "execution_count": null,
   "metadata": {},
   "outputs": [],
   "source": [
    "dlc.filterpredictions(CONFIG_PATH, video=VIDEO_DIR+\"M_190124_110324_12_30fps_30s.mp4\", \n",
    "                      videotype=\".mp4\",filtertype=\"median\",shuffle=1,destfolder=VIDEO_DIR\n",
    ")"
   ]
  },
  {
   "cell_type": "code",
   "execution_count": null,
   "metadata": {},
   "outputs": [],
   "source": [
    "dlc.create_labeled_video(CONFIG_PATH, videos=[VIDEO_DIR+\"M_190124_110324_12_30fps_30s.mp4\"], videotype='.mp4',\n",
    "                         shuffle=1,trainingsetindex=0, filtered=True,\n",
    "                         save_frames=False, Frames2plot=None,\n",
    "                         displayedbodyparts='all',\n",
    "                         outputframerate=30, destfolder=VIDEO_DIR,\n",
    "                         draw_skeleton=False, trailpoints=3, alphavalue=.7,displaycropped=False\n",
    ")"
   ]
  }
 ],
 "metadata": {
  "kernelspec": {
   "display_name": "OCNC_DLC",
   "language": "python",
   "name": "python3"
  },
  "language_info": {
   "codemirror_mode": {
    "name": "ipython",
    "version": 3
   },
   "file_extension": ".py",
   "mimetype": "text/x-python",
   "name": "python",
   "nbconvert_exporter": "python",
   "pygments_lexer": "ipython3",
   "version": "3.10.18"
  }
 },
 "nbformat": 4,
 "nbformat_minor": 2
}
