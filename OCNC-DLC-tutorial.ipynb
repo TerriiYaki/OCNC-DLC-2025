{
 "cells": [
  {
   "cell_type": "markdown",
   "metadata": {},
   "source": [
    "# OCNC DLC Tutorial\n",
    "\n",
    "Please make sure you are selecting the kernel that has your DLC installation!"
   ]
  },
  {
   "cell_type": "code",
   "execution_count": 1,
   "metadata": {},
   "outputs": [
    {
     "name": "stdout",
     "output_type": "stream",
     "text": [
      "Loading DLC 3.0.0rc8...\n"
     ]
    },
    {
     "name": "stderr",
     "output_type": "stream",
     "text": [
      "/Users/saffirayantjon/miniforge/envs/DLC3/lib/python3.10/site-packages/tqdm/auto.py:21: TqdmWarning: IProgress not found. Please update jupyter and ipywidgets. See https://ipywidgets.readthedocs.io/en/stable/user_install.html\n",
      "  from .autonotebook import tqdm as notebook_tqdm\n"
     ]
    }
   ],
   "source": [
    "import deeplabcut as dlc"
   ]
  },
  {
   "cell_type": "markdown",
   "metadata": {},
   "source": [
    "For some sanity checks if the working directory with the video of your choice is in the right location.\n",
    "So, please change ```/Users/saffirayantjon/Documents/DLC/OCNC_DLC_Tutorial/``` to your local path.\n",
    "\n",
    "- `pwd` prints your current local path \n",
    "- `ls` prints the directory information specified"
   ]
  },
  {
   "cell_type": "code",
   "execution_count": 6,
   "metadata": {},
   "outputs": [
    {
     "name": "stdout",
     "output_type": "stream",
     "text": [
      "/Users/saffirayantjon/Documents/DLC/OCNC_DLC_Tutorial\n",
      "DLC.code-workspace\n",
      "\u001b[31mM_190124_110324_12_60fps.avi\u001b[m\u001b[m\n",
      "\u001b[31mM_190124_110324_12_60fpsDLC_resnet50_M_191123_110324Mar11shuffle1_500000_filtered.h5\u001b[m\u001b[m\n",
      "M_190124_110324_12_60fpsDLC_resnet50_OCNCJun19shuffle1_15000.h5\n",
      "OCNC-DLC-tutorial-plotting.ipynb\n",
      "OCNC-DLC-tutorial.ipynb\n",
      "\u001b[34mOCNC-Saffira-2024-06-20\u001b[m\u001b[m\n"
     ]
    }
   ],
   "source": [
    "%%sh\n",
    "pwd\n",
    "ls /Users/saffirayantjon/Documents/DLC/OCNC_DLC_Tutorial/"
   ]
  },
  {
   "cell_type": "markdown",
   "metadata": {},
   "source": [
    "## Create a project\n",
    "\n",
    "For organisational sanity, I prefer to declare more global variables in the beginning of the file. This way when I export the job to a potential computing cluster, I can easily change the location etc. "
   ]
  },
  {
   "cell_type": "code",
   "execution_count": 7,
   "metadata": {},
   "outputs": [
    {
     "name": "stdout",
     "output_type": "stream",
     "text": [
      "Created \"/Users/saffirayantjon/Documents/DLC/OCNC_DLC_Tutorial/OCNC-Saffira-2025-06-26/videos\"\n",
      "Created \"/Users/saffirayantjon/Documents/DLC/OCNC_DLC_Tutorial/OCNC-Saffira-2025-06-26/labeled-data\"\n",
      "Created \"/Users/saffirayantjon/Documents/DLC/OCNC_DLC_Tutorial/OCNC-Saffira-2025-06-26/training-datasets\"\n",
      "Created \"/Users/saffirayantjon/Documents/DLC/OCNC_DLC_Tutorial/OCNC-Saffira-2025-06-26/dlc-models\"\n",
      "Attempting to create a symbolic link of the video ...\n",
      "Created the symlink of /Users/saffirayantjon/Documents/DLC/OCNC_DLC_Tutorial/M_190124_110324_12_60fps.avi to /Users/saffirayantjon/Documents/DLC/OCNC_DLC_Tutorial/OCNC-Saffira-2025-06-26/videos/M_190124_110324_12_60fps.avi\n",
      "/Users/saffirayantjon/Documents/DLC/OCNC_DLC_Tutorial/OCNC-Saffira-2025-06-26/videos/M_190124_110324_12_60fps.avi\n",
      "Generated \"/Users/saffirayantjon/Documents/DLC/OCNC_DLC_Tutorial/OCNC-Saffira-2025-06-26/config.yaml\"\n",
      "\n",
      "A new project with name OCNC-Saffira-2025-06-26 is created at /Users/saffirayantjon/Documents/DLC/OCNC_DLC_Tutorial and a configurable file (config.yaml) is stored there. Change the parameters in this file to adapt to your project's needs.\n",
      " Once you have changed the configuration file, use the function 'extract_frames' to select frames for labeling.\n",
      ". [OPTIONAL] Use the function 'add_new_videos' to add new videos to your project (at any stage).\n"
     ]
    },
    {
     "data": {
      "text/plain": [
       "'/Users/saffirayantjon/Documents/DLC/OCNC_DLC_Tutorial/OCNC-Saffira-2025-06-26/config.yaml'"
      ]
     },
     "execution_count": 7,
     "metadata": {},
     "output_type": "execute_result"
    }
   ],
   "source": [
    "\"\"\" ==== CREATE PROJECT ==== \"\"\"\n",
    "\n",
    "# -- edit this part to match your directory --\n",
    "# -- input: str \n",
    "PROJECT_NAME: str = \"OCNC\"\n",
    "EXPERIMENTER: str = \"Saffira\"\n",
    "VIDEO_DIR: str = \"/Users/saffirayantjon/Documents/DLC/OCNC_DLC_Tutorial/\" \n",
    "WORKING_DIR: str = \"/Users/saffirayantjon/Documents/DLC/DLC-models/\"\n",
    "\n",
    "# NOTE: the VIDEO_DIR is a lst input -- you can use \n",
    "dlc.create_new_project(PROJECT_NAME, EXPERIMENTER, [VIDEO_DIR+\"M_190124_110324_12_60fps.avi\"]\n",
    ")"
   ]
  },
  {
   "cell_type": "markdown",
   "metadata": {},
   "source": [
    "Check if it is creating the folders it promised you :)"
   ]
  },
  {
   "cell_type": "code",
   "execution_count": 8,
   "metadata": {},
   "outputs": [
    {
     "name": "stdout",
     "output_type": "stream",
     "text": [
      "DLC.code-workspace\n",
      "\u001b[31mM_190124_110324_12_60fps.avi\u001b[m\u001b[m\n",
      "\u001b[31mM_190124_110324_12_60fpsDLC_resnet50"
     ]
    },
    {
     "name": "stdout",
     "output_type": "stream",
     "text": [
      "_M_191123_110324Mar11shuffle1_500000_filtered.h5\u001b[m\u001b[m\n",
      "M_190124_110324_12_60fpsDLC_resnet50_OCNCJun19shuffle1_15000.h5\n",
      "OCNC-DLC-tutorial-plotting.ipynb\n",
      "OCNC-DLC-tutorial.ipynb\n",
      "\u001b[34mOCNC-Saffira-2024-06-20\u001b[m\u001b[m\n",
      "\u001b[34mOCNC-Saffira-2025-06-26\u001b[m\u001b[m\n"
     ]
    }
   ],
   "source": [
    "%%sh\n",
    "ls /Users/saffirayantjon/Documents/DLC/OCNC_DLC_Tutorial/"
   ]
  },
  {
   "cell_type": "markdown",
   "metadata": {},
   "source": [
    "### Check The project details & edit accordingly"
   ]
  },
  {
   "cell_type": "code",
   "execution_count": 9,
   "metadata": {},
   "outputs": [],
   "source": [
    "CONFIG_PATH: str = \"/Users/saffirayantjon/Documents/DLC/OCNC_DLC_Tutorial/OCNC-Saffira-2025-06-26/config.yaml\""
   ]
  },
  {
   "cell_type": "markdown",
   "metadata": {},
   "source": [
    "\n",
    "\n",
    "DISCLAIMER: I have anxiety and don't trust my fat fingers. For sane people, it is completely OK to open the file and just edit the config file manually using your text editor of choice. \n",
    "\n",
    "Please note:\n",
    "- `numframes2pick`: Number of frames to label per video.\n",
    "- `skeleton`: The body part label connections.\n",
    "- `bodyparts`: The labels."
   ]
  },
  {
   "cell_type": "code",
   "execution_count": 10,
   "metadata": {},
   "outputs": [
    {
     "data": {
      "text/plain": [
       "{'Task': 'OCNC',\n",
       " 'scorer': 'Saffira',\n",
       " 'date': 'Jun26',\n",
       " 'multianimalproject': False,\n",
       " 'identity': None,\n",
       " 'project_path': '/Users/saffirayantjon/Documents/DLC/OCNC_DLC_Tutorial/OCNC-Saffira-2025-06-26',\n",
       " 'engine': 'pytorch',\n",
       " 'video_sets': {'/Users/saffirayantjon/Documents/DLC/OCNC_DLC_Tutorial/M_190124_110324_12_60fps.avi': {'crop': '0, 720, 0, 540'}},\n",
       " 'bodyparts': ['bodypart1', 'bodypart2', 'bodypart3', 'objectA'],\n",
       " 'start': 0,\n",
       " 'stop': 1,\n",
       " 'numframes2pick': 20,\n",
       " 'skeleton': [['bodypart1', 'bodypart2'], ['objectA', 'bodypart3']],\n",
       " 'skeleton_color': 'black',\n",
       " 'pcutoff': 0.6,\n",
       " 'dotsize': 12,\n",
       " 'alphavalue': 0.7,\n",
       " 'colormap': 'rainbow',\n",
       " 'TrainingFraction': [0.95],\n",
       " 'iteration': 0,\n",
       " 'default_net_type': 'resnet_50',\n",
       " 'default_augmenter': 'default',\n",
       " 'snapshotindex': -1,\n",
       " 'detector_snapshotindex': -1,\n",
       " 'batch_size': 8,\n",
       " 'detector_batch_size': 1,\n",
       " 'cropping': False,\n",
       " 'x1': 0,\n",
       " 'x2': 640,\n",
       " 'y1': 277,\n",
       " 'y2': 624,\n",
       " 'corner2move2': [50, 50],\n",
       " 'move2corner': True,\n",
       " 'SuperAnimalConversionTables': None}"
      ]
     },
     "execution_count": 10,
     "metadata": {},
     "output_type": "execute_result"
    }
   ],
   "source": [
    "import yaml\n",
    "\n",
    "project_details = yaml.safe_load(open(CONFIG_PATH))\n",
    "project_details"
   ]
  },
  {
   "cell_type": "code",
   "execution_count": 12,
   "metadata": {},
   "outputs": [
    {
     "data": {
      "text/plain": [
       "20"
      ]
     },
     "execution_count": 12,
     "metadata": {},
     "output_type": "execute_result"
    }
   ],
   "source": [
    "# -- check number of frames to be extracted\n",
    "project_details[\"numframes2pick\"] = 20\n",
    "project_details[\"numframes2pick\"]"
   ]
  },
  {
   "cell_type": "code",
   "execution_count": null,
   "metadata": {},
   "outputs": [
    {
     "name": "stdout",
     "output_type": "stream",
     "text": [
      "Config file read successfully.\n",
      "Do you want to extract (perhaps additional) frames for video: /Users/saffirayantjon/Documents/DLC/OCNC_DLC_Tutorial/M_190124_110324_12_60fps.avi ?\n"
     ]
    }
   ],
   "source": [
    "# NOTE: Choose the method that allows you to select the frames that capture all the behaviour you are interested in :)\n",
    "dlc.extract_frames(CONFIG_PATH, \n",
    "                   mode='automatic',\n",
    "                   userfeedback=True, \n",
    "                   crop=False\n",
    ")"
   ]
  },
  {
   "cell_type": "markdown",
   "metadata": {},
   "source": [
    "Check if it actually did the thing it promised :) (folder in labeled-frames)\n",
    "You should see something like: `img0015.png` 20 times a different frame."
   ]
  },
  {
   "cell_type": "code",
   "execution_count": null,
   "metadata": {},
   "outputs": [
    {
     "name": "stdout",
     "output_type": "stream",
     "text": [
      "CollectedData_Saffira.csv\n",
      "CollectedData_Saffira.h5\n",
      "img0015.png\n",
      "img0314.png\n",
      "img0390.png\n",
      "img0474.png\n",
      "img0631.png\n",
      "img1103.png\n",
      "img1559.png\n",
      "img1596.png\n",
      "img1816.png\n",
      "img2273.png\n",
      "img2292.png\n",
      "img2351.png\n",
      "img23"
     ]
    },
    {
     "name": "stdout",
     "output_type": "stream",
     "text": [
      "75.png\n",
      "img2759.png\n",
      "img2905.png\n",
      "img3674.png\n",
      "img3732.png\n",
      "img3934.png\n",
      "img4431.png\n",
      "img4915.png\n"
     ]
    }
   ],
   "source": [
    "%%sh\n",
    "ls /Users/saffirayantjon/Documents/DLC/OCNC_DLC_Tutorial/OCNC-Saffira-2024-06-26/labeled-data/M_190124_110324_12_60fps/\n",
    "open /Users/saffirayantjon/Documents/DLC/OCNC_DLC_Tutorial/OCNC-Saffira-2024-06-26/labeled-data/M_190124_110324_12_60fps/"
   ]
  },
  {
   "cell_type": "code",
   "execution_count": null,
   "metadata": {},
   "outputs": [
    {
     "ename": "NameError",
     "evalue": "name 'project_details' is not defined",
     "output_type": "error",
     "traceback": [
      "\u001b[0;31m---------------------------------------------------------------------------\u001b[0m",
      "\u001b[0;31mNameError\u001b[0m                                 Traceback (most recent call last)",
      "Cell \u001b[0;32mIn[5], line 2\u001b[0m\n\u001b[1;32m      1\u001b[0m \u001b[38;5;66;03m# --- sanity check -- what are the current labels\u001b[39;00m\n\u001b[0;32m----> 2\u001b[0m bodyparts_details \u001b[38;5;241m=\u001b[39m \u001b[43mproject_details\u001b[49m[\u001b[38;5;124m\"\u001b[39m\u001b[38;5;124mbodyparts\u001b[39m\u001b[38;5;124m\"\u001b[39m]\n\u001b[1;32m      3\u001b[0m \u001b[38;5;28mprint\u001b[39m(\u001b[38;5;124m\"\u001b[39m\u001b[38;5;124mCurrent bodyparts:\u001b[39m\u001b[38;5;124m\"\u001b[39m)\n\u001b[1;32m      4\u001b[0m \u001b[38;5;28mprint\u001b[39m(\u001b[38;5;124m\"\u001b[39m\u001b[38;5;124m--\u001b[39m\u001b[38;5;124m\"\u001b[39m, bodyparts_details)\n",
      "\u001b[0;31mNameError\u001b[0m: name 'project_details' is not defined"
     ]
    }
   ],
   "source": [
    "# --- sanity check -- what are the current labels\n",
    "bodyparts_details = project_details[\"bodyparts\"]\n",
    "print(\"Current bodyparts:\")\n",
    "print(\"--\", bodyparts_details)\n",
    "\n",
    "project_details[\"bodyparts\"] =  [\"LFP\", # left front paw\n",
    "                                 \"RFP\", # right front paw\n",
    "                                 \"LHP\", # left hind paw\n",
    "                                 \"RHP\", # right hind paw\n",
    "                                 \"TB\", # tail base\n",
    "                                 \"T0\", # tail segment 0\n",
    "                                 \"N\" # nose\n",
    "]"
   ]
  },
  {
   "cell_type": "code",
   "execution_count": 16,
   "metadata": {},
   "outputs": [
    {
     "name": "stdout",
     "output_type": "stream",
     "text": [
      "Current skeleton:\n",
      "-- [['bodypart1', 'bodypart2'], ['objectA', 'bodypart3']]\n"
     ]
    }
   ],
   "source": [
    "# --- sanity check -- what are the current skeleton config\n",
    "skeleton_details = project_details[\"skeleton\"]\n",
    "print(\"Current skeleton:\")\n",
    "print(\"--\", skeleton_details)\n",
    "\n",
    "project_details[\"skeleton\"] = [[]]*4\n",
    "project_details[\"skeleton\"][0] = [\"LF\", \"LHP\"]\n",
    "project_details[\"skeleton\"][1] = [\"RFP\", \"RHP\"]\n",
    "project_details[\"skeleton\"][2] = [\"N\", \"TB\"]\n",
    "project_details[\"skeleton\"][3] = [\"TB\", \"T0\"]"
   ]
  },
  {
   "cell_type": "code",
   "execution_count": 17,
   "metadata": {},
   "outputs": [],
   "source": [
    "# -- write edit to the yaml file\n",
    "yaml.safe_dump(\n",
    "        project_details, open(CONFIG_PATH, \"w\"), sort_keys=False\n",
    ")"
   ]
  },
  {
   "cell_type": "markdown",
   "metadata": {},
   "source": [
    "Final check before labeling frames ! "
   ]
  },
  {
   "cell_type": "code",
   "execution_count": 18,
   "metadata": {},
   "outputs": [
    {
     "data": {
      "text/plain": [
       "{'Task': 'OCNC',\n",
       " 'scorer': 'Saffira',\n",
       " 'date': 'Jun20',\n",
       " 'multianimalproject': False,\n",
       " 'identity': None,\n",
       " 'project_path': '/Users/saffirayantjon/Documents/DLC/OCNC_DLC_Tutorial/OCNC-Saffira-2024-06-20',\n",
       " 'video_sets': {'/Users/saffirayantjon/Documents/DLC/OCNC_DLC_Tutorial/M_190124_110324_12_60fps.avi': {'crop': '0, 720, 0, 540'}},\n",
       " 'bodyparts': ['LFP', 'RFP', 'LHP', 'RHP', 'TB', 'T0', 'N'],\n",
       " 'start': 0,\n",
       " 'stop': 1,\n",
       " 'numframes2pick': 20,\n",
       " 'skeleton': [['LF', 'LHP'], ['RFP', 'RHP'], ['N', 'TB'], ['TB', 'T0']],\n",
       " 'skeleton_color': 'black',\n",
       " 'pcutoff': 0.6,\n",
       " 'dotsize': 12,\n",
       " 'alphavalue': 0.7,\n",
       " 'colormap': 'rainbow',\n",
       " 'TrainingFraction': [0.95],\n",
       " 'iteration': 0,\n",
       " 'default_net_type': 'resnet_50',\n",
       " 'default_augmenter': 'default',\n",
       " 'snapshotindex': -1,\n",
       " 'batch_size': 8,\n",
       " 'cropping': False,\n",
       " 'x1': 0,\n",
       " 'x2': 640,\n",
       " 'y1': 277,\n",
       " 'y2': 624,\n",
       " 'corner2move2': [50, 50],\n",
       " 'move2corner': True}"
      ]
     },
     "execution_count": 18,
     "metadata": {},
     "output_type": "execute_result"
    }
   ],
   "source": [
    "project_details"
   ]
  },
  {
   "cell_type": "code",
   "execution_count": 20,
   "metadata": {},
   "outputs": [],
   "source": [
    "dlc.label_frames(CONFIG_PATH)"
   ]
  },
  {
   "cell_type": "code",
   "execution_count": 21,
   "metadata": {},
   "outputs": [
    {
     "name": "stdout",
     "output_type": "stream",
     "text": [
      "Creating images with labels by Saffira.\n"
     ]
    },
    {
     "name": "stderr",
     "output_type": "stream",
     "text": [
      "100%|██████████| 20/20 [00:02<00:00,  7.88it/s]"
     ]
    },
    {
     "name": "stdout",
     "output_type": "stream",
     "text": [
      "If all the labels are ok, then use the function 'create_training_dataset' to create the training dataset!\n"
     ]
    },
    {
     "name": "stderr",
     "output_type": "stream",
     "text": [
      "\n"
     ]
    }
   ],
   "source": [
    "dlc.check_labels(CONFIG_PATH)"
   ]
  },
  {
   "cell_type": "markdown",
   "metadata": {},
   "source": [
    "## The steps below only if you have GPU engagement \n",
    "- Otherwise move onto Google Colab: https://colab.research.google.com/github/DeepLabCut/DeepLabCut/blob/master/examples/COLAB/COLAB_YOURDATA_TrainNetwork_VideoAnalysis.ipynb\n",
    "    -   Copy to drive button! "
   ]
  },
  {
   "cell_type": "code",
   "execution_count": null,
   "metadata": {},
   "outputs": [],
   "source": [
    "dlc.create_training_dataset(CONFIG_PATH, \n",
    "                            num_shuffles=1, Shuffles=None, windows2linux=False, userfeedback=False,\n",
    "                            trainIndexes=None, testIndexes=None, net_type=\"Resnet50\", augmenter_type=None\n",
    ")"
   ]
  },
  {
   "cell_type": "code",
   "execution_count": null,
   "metadata": {},
   "outputs": [],
   "source": [
    "# for demo the maxiters is set to 10000 which should be reklatively fast :) \n",
    "dlc.train_network (CONFIG_PATH, \n",
    "                   shuffle=1, trainingsetindex=0, \n",
    "                   gputouse=0, max_snapshots_to_keep=5, autotune=False,\n",
    "                   displayiters=10, saveiters=500, maxiters=10000, keepdeconvweights=True\n",
    ")"
   ]
  },
  {
   "cell_type": "code",
   "execution_count": null,
   "metadata": {},
   "outputs": [],
   "source": [
    "%matplotlib notebook\n",
    "dlc.evaluate_network(CONFIG_PATH, plotting=True\n",
    ")"
   ]
  },
  {
   "cell_type": "code",
   "execution_count": null,
   "metadata": {},
   "outputs": [],
   "source": [
    "VIDEO_DIR:str = \"/Users/saffirayantjon/Documents/DLC/OCNC_DLC_Tutorial/\" \n",
    "dlc.analyze_videos(CONFIG_PATH, VIDEO_DIR+\"M_190124_110324_12_60fps.avi\", videotype='avi', \n",
    "                   shuffle=1, trainingsetindex=0, gputouse=0, save_as_csv=True,\n",
    "                   destfolder=VIDEO_DIR, batchsize=None, cropping=None, TFGPUinference=True,\n",
    "                   dynamic=(False, 0.5, 10)\n",
    ")"
   ]
  },
  {
   "cell_type": "code",
   "execution_count": null,
   "metadata": {},
   "outputs": [],
   "source": [
    "dlc.filterpredictions(CONFIG_PATH, VIDEO_DIR+\"M_190124_110324_12_60fps.avi\")"
   ]
  },
  {
   "cell_type": "code",
   "execution_count": null,
   "metadata": {},
   "outputs": [],
   "source": [
    "dlc.create_labeled_video(CONFIG_PATH, VIDEO_DIR+\"M_190124_110324_12_60fps.avi\", videotype='.avi',\n",
    "                         shuffle=1,trainingsetindex=0, filtered=True,\n",
    "                         save_frames=False, Frames2plot=None,\n",
    "                         displayedbodyparts='all',\n",
    "                         outputframerate=60, destfolder=VIDEO_DIR,\n",
    "                         draw_skeleton=False, trailpoints=3, displaycropped=False\n",
    ")"
   ]
  }
 ],
 "metadata": {
  "kernelspec": {
   "display_name": "DLC3",
   "language": "python",
   "name": "python3"
  },
  "language_info": {
   "codemirror_mode": {
    "name": "ipython",
    "version": 3
   },
   "file_extension": ".py",
   "mimetype": "text/x-python",
   "name": "python",
   "nbconvert_exporter": "python",
   "pygments_lexer": "ipython3",
   "version": "3.10.0"
  }
 },
 "nbformat": 4,
 "nbformat_minor": 2
}
